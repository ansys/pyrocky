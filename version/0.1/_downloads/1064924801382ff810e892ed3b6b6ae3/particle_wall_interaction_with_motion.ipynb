{
  "cells": [
    {
      "cell_type": "markdown",
      "metadata": {},
      "source": [
        "\n# Particle simulation with moving wall interaction\nThis example sets up and solves a simulation of particles interacting with a rotating\nL-shape tube wall.\n"
      ]
    },
    {
      "cell_type": "markdown",
      "metadata": {},
      "source": [
        "<img src=\"file://_static/Lshape_tube_result.png\" width=\"400pt\" align=\"center\">\n\n"
      ]
    },
    {
      "cell_type": "markdown",
      "metadata": {},
      "source": [
        "## Perform imports and create a project\nPerform the required imports and create an empty project.\n\n"
      ]
    },
    {
      "cell_type": "code",
      "execution_count": null,
      "metadata": {
        "collapsed": false
      },
      "outputs": [],
      "source": [
        "import os.path\nimport tempfile\n\nimport ansys.rocky.core as pyrocky\nfrom ansys.rocky.core import examples\n\n# Create a temp directory to save the project.\nproject_dir = tempfile.mkdtemp(prefix=\"pyrocky_\")\n\n# Launch Rocky and open a project.\nrocky = pyrocky.launch_rocky()\nproject = rocky.api.CreateProject()\nproject.SaveProject(os.path.join(project_dir, \"rocky-testing.rocky\"))"
      ]
    },
    {
      "cell_type": "markdown",
      "metadata": {},
      "source": [
        "## Configure the study\n\n"
      ]
    },
    {
      "cell_type": "code",
      "execution_count": null,
      "metadata": {
        "collapsed": false
      },
      "outputs": [],
      "source": [
        "study = project.GetStudy()\n\n# Download the STL file that was imported into Rocky to represent a wall.\nfile_name = \"Lshape_tube.stl\"\nfile_path = examples.download_file(project_dir, file_name, \"pyrocky/geometries\")\nwall = study.ImportWall(file_path)[0]\n\n# Create a particle with the default shape (sphere) and size distribution (single\n# distribution with a sieve size of 0.1 m).\nparticle = study.CreateParticle()\n\n# Create a circular surface to used as the inlet.\ncircular_surface = study.CreateCircularSurface()\ncircular_surface.SetMaxRadius(0.8, unit=\"m\")\n\n# Create a rectangular surface to use as the outlet.\nrectangular_surface = study.CreateRectangularSurface()\nrectangular_surface.SetLength(3, unit=\"m\")\nrectangular_surface.SetWidth(3, unit=\"m\")\nrectangular_surface.SetCenter((5, -7.5, 0), unit=\"m\")\n\n# Set the inlet and outlet.\nparticle_inlet = study.CreateParticleInlet(circular_surface, particle)\ninput_property_list = particle_inlet.GetInputPropertiesList()\ninput_property_list[0].SetMassFlowRate(1000)\noutlet = study.CreateOutlet(rectangular_surface)\n\n# Set the motion rotation over the Y axis and apply it on the wall and the\n# rectagular surface used as the outlet.\nmotion_frame_source = study.GetMotionFrameSource()\nmotion_frame = motion_frame_source.NewFrame()\nmotion_frame.AddRotationMotion(angular_velocity=((0.0, 0.5, 0.0), \"rad/s\"))\nmotion_frame.ApplyTo(rectangular_surface)\nmotion_frame.ApplyTo(wall)\n\n# The domain settings define the domain limits where the particles are enabled to be\n# computed in the simulation.\ndomain = study.GetDomainSettings()\ndomain.DisableUseBoundaryLimits()\ndomain.SetCoordinateLimitsMaxValues((10, 1, 10), unit=\"m\")"
      ]
    },
    {
      "cell_type": "markdown",
      "metadata": {},
      "source": [
        "## Set up the solver and run the simulation\n\n"
      ]
    },
    {
      "cell_type": "code",
      "execution_count": null,
      "metadata": {
        "collapsed": false
      },
      "outputs": [],
      "source": [
        "solver = study.GetSolver()\nsolver.SetSimulationDuration(5, unit=\"s\")\nstudy.StartSimulation()"
      ]
    },
    {
      "cell_type": "markdown",
      "metadata": {},
      "source": [
        "## Postprocess\nObtain the in and out mass flows of the particles.\n\n"
      ]
    },
    {
      "cell_type": "code",
      "execution_count": null,
      "metadata": {
        "collapsed": false
      },
      "outputs": [],
      "source": [
        "particles = study.GetParticles()\n\ntimes, mass_flow_in = particles.GetNumpyCurve(\"Particles Mass Flow In\", unit=\"t/h\")\ntimes, mass_flow_out = particles.GetNumpyCurve(\"Particles Mass Flow Out\", unit=\"t/h\")"
      ]
    },
    {
      "cell_type": "markdown",
      "metadata": {},
      "source": [
        "### Plot curves\n\n"
      ]
    },
    {
      "cell_type": "code",
      "execution_count": null,
      "metadata": {
        "collapsed": false
      },
      "outputs": [],
      "source": [
        "import matplotlib.pyplot as plt\n\nfig, ax = plt.subplots(1)\n\nax.plot(times, mass_flow_in, \"b\", label=\"Mass Flow In\")\nax.plot(times, mass_flow_out, \"r\", label=\"Mass Flow Out\")\nax.set_xlabel(\"Time [s]\")\nax.set_ylabel(\"Mass Flow [t/h]\")\nax.legend(loc=\"upper left\")\n\nplt.draw()\n\nrocky.close()"
      ]
    }
  ],
  "metadata": {
    "kernelspec": {
      "display_name": "Python 3",
      "language": "python",
      "name": "python3"
    },
    "language_info": {
      "codemirror_mode": {
        "name": "ipython",
        "version": 3
      },
      "file_extension": ".py",
      "mimetype": "text/x-python",
      "name": "python",
      "nbconvert_exporter": "python",
      "pygments_lexer": "ipython3",
      "version": "3.10.11"
    }
  },
  "nbformat": 4,
  "nbformat_minor": 0
}