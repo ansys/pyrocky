{
  "cells": [
    {
      "cell_type": "markdown",
      "metadata": {},
      "source": [
        "\n# Particle simulation with wall interaction\nThis example sets up and solves a simulation of particles interacting with a cylinder\nwall.\n"
      ]
    },
    {
      "cell_type": "markdown",
      "metadata": {},
      "source": [
        "<img src=\"file://_static/open_cylinder_result.png\" width=\"400pt\" align=\"center\">\n\n"
      ]
    },
    {
      "cell_type": "markdown",
      "metadata": {},
      "source": [
        "## Perform imports and create a project\nPerform the required imports and create an empty project.\n\n"
      ]
    },
    {
      "cell_type": "code",
      "execution_count": null,
      "metadata": {
        "collapsed": false
      },
      "outputs": [],
      "source": [
        "import os.path\nimport tempfile\n\nimport ansys.rocky.core as pyrocky\nfrom ansys.rocky.core import examples\n\n# Create a temp directory to save the project.\nproject_dir = tempfile.mkdtemp(prefix=\"pyrocky_\")\n\n# Launch Rocky and open a project.\nrocky = pyrocky.launch_rocky()\nproject = rocky.api.CreateProject()\nproject.SaveProject(os.path.join(project_dir, \"rocky-testing.rocky\"))"
      ]
    },
    {
      "cell_type": "markdown",
      "metadata": {},
      "source": [
        "## Configure the study\n\n"
      ]
    },
    {
      "cell_type": "code",
      "execution_count": null,
      "metadata": {
        "collapsed": false
      },
      "outputs": [],
      "source": [
        "study = project.GetStudy()\n\n# Download the STL file that will imported into Rocky to represent a Wall.\nfile_name = \"open_cylinder.stl\"\nfile_path = examples.download_file(project_dir, file_name, \"pyrocky/geometries\")\nstudy.ImportWall(file_path)\n\n# Create a sphero-cylinder shape particle with the default size distribution (single\n# distribution with sieve size of 0.1 m).\nparticle = study.CreateParticle()\nparticle.SetShape(\"sphero_cylinder\")\n\n# Create circular surface with a max radius of 0.3 m and default center coordinates\n# values (0.0, 0.0, 0.0).\ncircular_surface = study.CreateCircularSurface()\ncircular_surface.SetMaxRadius(0.3, \"m\")\nparticle_inlet = study.CreateParticleInlet(circular_surface, particle)"
      ]
    },
    {
      "cell_type": "markdown",
      "metadata": {},
      "source": [
        "## Set up the solver and run the simulation\n\n"
      ]
    },
    {
      "cell_type": "code",
      "execution_count": null,
      "metadata": {
        "collapsed": false
      },
      "outputs": [],
      "source": [
        "solver = study.GetSolver()\nsolver.SetSimulationDuration(2, unit=\"s\")\nstudy.StartSimulation()"
      ]
    },
    {
      "cell_type": "markdown",
      "metadata": {},
      "source": [
        "## Postprocess\nObtain the particle count curve over the entire particle domain and in a half-cylinder\ndomain selection, as shown in the following figure:\n\n"
      ]
    },
    {
      "cell_type": "markdown",
      "metadata": {},
      "source": [
        "<img src=\"file://_static/open_cylinder_result_selection.png\" width=\"400pt\" align=\"center\">\n\n"
      ]
    },
    {
      "cell_type": "code",
      "execution_count": null,
      "metadata": {
        "collapsed": false
      },
      "outputs": [],
      "source": [
        "processes = project.GetUserProcessCollection()\n\nparticles = study.GetParticles()\ncylinder_selection = processes.CreateCylinderProcess(particles)\ncylinder_selection.SetSize(2, 0.74, 2, unit=\"m\")\ncylinder_selection.SetCenter(0, -0.37, 0, unit=\"m\")\ncylinder_selection.SetFinalAngle(180)\n\ntimes, all_particles_count = particles.GetNumpyCurve(\"Particles Count\")\ntimes, selection_count = cylinder_selection.GetNumpyCurve(\"Particles Count\")"
      ]
    },
    {
      "cell_type": "markdown",
      "metadata": {},
      "source": [
        "### Plot curves\n\n"
      ]
    },
    {
      "cell_type": "code",
      "execution_count": null,
      "metadata": {
        "collapsed": false
      },
      "outputs": [],
      "source": [
        "import matplotlib.pyplot as plt\n\nfig, ax = plt.subplots(1)\n\nax.plot(times, all_particles_count, \"b\", label=\"All Particles\")\nax.plot(times, selection_count, \"r\", label=\"Selection Particles\")\nax.set_xlabel(\"Time [s]\")\nax.set_ylabel(\"Count [-]\")\nax.legend(loc=\"upper left\")\n\nplt.draw()\n\nrocky.close()"
      ]
    }
  ],
  "metadata": {
    "kernelspec": {
      "display_name": "Python 3",
      "language": "python",
      "name": "python3"
    },
    "language_info": {
      "codemirror_mode": {
        "name": "ipython",
        "version": 3
      },
      "file_extension": ".py",
      "mimetype": "text/x-python",
      "name": "python",
      "nbconvert_exporter": "python",
      "pygments_lexer": "ipython3",
      "version": "3.10.11"
    }
  },
  "nbformat": 4,
  "nbformat_minor": 0
}