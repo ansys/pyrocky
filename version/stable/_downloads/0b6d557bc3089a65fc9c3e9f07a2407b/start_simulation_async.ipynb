{
  "cells": [
    {
      "cell_type": "markdown",
      "metadata": {},
      "source": [
        "\n# Start Simulation Async\nThis example sets up and solves a simulation of particles interacting with a rotating\nL-shape tube wall using an async call.\n"
      ]
    },
    {
      "cell_type": "markdown",
      "metadata": {},
      "source": [
        "<img src=\"file://_static/Lshape_tube_result.png\" width=\"400pt\" align=\"center\">\n\n"
      ]
    },
    {
      "cell_type": "markdown",
      "metadata": {},
      "source": [
        "## Perform imports and create a project\nPerform the required imports and create an empty project.\n\n"
      ]
    },
    {
      "cell_type": "code",
      "execution_count": null,
      "metadata": {
        "collapsed": false
      },
      "outputs": [],
      "source": [
        "import os\nimport tempfile\nimport time\n\nimport ansys.rocky.core as pyrocky\nfrom ansys.rocky.core import examples\n\nawp_roots = sorted(\n    [k for k in os.environ.keys() if k.startswith(\"AWP_ROOT\")], reverse=True\n)\nlast_rocky_version = int(awp_roots[0].partition(\"AWP_ROOT\")[2])\nif last_rocky_version >= 251:\n    # `non_blocking` simulation only available on Rocky 25R1 and onwards.\n\n    # Create a temp directory to save the project.\n    project_dir = tempfile.mkdtemp(prefix=\"pyrocky_\")\n\n    # Launch Rocky and open a project.\n    rocky = pyrocky.launch_rocky()\n    project = rocky.api.CreateProject()\n    project.SaveProject(os.path.join(project_dir, \"rocky-testing.rocky\"))\n\n    ###############################################################################\n    # Configure the study\n    # ~~~~~~~~~~~~~~~~~~~\n    study = project.GetStudy()\n\n    # Download the STL file that was imported into Rocky to represent a wall.\n    file_name = \"Lshape_tube.stl\"\n    file_path = examples.download_file(project_dir, file_name, \"pyrocky/geometries\")\n    wall = study.ImportWall(file_path)[0]\n\n    # Create a particle with the default shape (sphere) and size distribution (single\n    # distribution with a sieve size of 0.1 m).\n    particle = study.CreateParticle()\n\n    # Create a circular surface to used as the inlet.\n    circular_surface = study.CreateCircularSurface()\n    circular_surface.SetMaxRadius(0.8, unit=\"m\")\n\n    # Create a rectangular surface to use as the outlet.\n    rectangular_surface = study.CreateRectangularSurface()\n    rectangular_surface.SetLength(3, unit=\"m\")\n    rectangular_surface.SetWidth(3, unit=\"m\")\n    rectangular_surface.SetCenter((5, -7.5, 0), unit=\"m\")\n\n    # Set the inlet and outlet.\n    particle_inlet = study.CreateParticleInlet(circular_surface, particle)\n    input_property_list = particle_inlet.GetInputPropertiesList()\n    input_property_list[0].SetMassFlowRate(1000)\n    outlet = study.CreateOutlet(rectangular_surface)\n\n    # Set the motion rotation over the Y axis and apply it on the wall and the\n    # rectangular surface used as the outlet.\n    motion_frame_source = study.GetMotionFrameSource()\n    motion_frame = motion_frame_source.NewFrame()\n    motion_frame.AddRotationMotion(angular_velocity=((0.0, 0.5, 0.0), \"rad/s\"))\n    motion_frame.ApplyTo(rectangular_surface)\n    motion_frame.ApplyTo(wall)\n\n    # The domain settings define the domain limits where the particles are enabled to be\n    # computed in the simulation.\n    domain = study.GetDomainSettings()\n    domain.DisableUseBoundaryLimits()\n    domain.SetCoordinateLimitsMaxValues((10, 1, 10), unit=\"m\")\n\n    ###############################################################################\n    # Set up the solver and run the simulation\n    # ~~~~~~~~~~~~~~~~~~~~~~~~~~~~~~~~~~~~~~~~\n\n    solver = study.GetSolver()\n    simulation_duration = 5\n    solver.SetSimulationDuration(simulation_duration, unit=\"s\")\n    # `non_blocking` only available on Rocky 25R1 and onwards.\n    study.StartSimulation(non_blocking=True)\n\n    ###############################################################################\n    # Postprocess\n    # ~~~~~~~~~~~\n    # Obtain the in and out mass flows of the particles while the simulation is\n    # running.\n    particles = study.GetParticles()\n\n    while study.IsSimulating():\n        # When running an asynchronous simulation, the call to RefreshResults is required\n        # to ensure that the results are updated.\n        study.RefreshResults()\n\n        times, mass_flow_in = particles.GetNumpyCurve(\n            \"Particles Mass Flow In\", unit=\"t/h\"\n        )\n        times, mass_flow_out = particles.GetNumpyCurve(\n            \"Particles Mass Flow Out\", unit=\"t/h\"\n        )\n\n        print(f\"Simulation Progress: {study.GetProgress():.2f} %\")\n        print(f\"\\tCurrent mass_flow_in: {mass_flow_in[-1]:.2f} t/h\")\n        print(f\"\\tCurrent mass_flow_out: {mass_flow_out[-1]:.2f} t/h\")\n\n        time.sleep(2)\n\n    print(\"Simulation Complete!\")\n\n    times, mass_flow_in = particles.GetNumpyCurve(\"Particles Mass Flow In\", unit=\"t/h\")\n    times, mass_flow_out = particles.GetNumpyCurve(\"Particles Mass Flow Out\", unit=\"t/h\")\n\n    # Obtain the maximum and minimum velocities of the particles at each time step.\n    import numpy as np\n\n    simulation_times = study.GetTimeSet()\n    velocity_gf = particles.GetGridFunction(\"Velocity : Translational : Absolute\")\n    velocity_max = np.array(\n        [\n            velocity_gf.GetMax(unit=\"m/s\", time_step=i)\n            for i in range(len(simulation_times))\n        ]\n    )\n    velocity_min = np.array(\n        [\n            velocity_gf.GetMin(unit=\"m/s\", time_step=i)\n            for i in range(len(simulation_times))\n        ]\n    )\n\n    #################################################################################\n    # Plot curves\n    # +++++++++++\n\n    import matplotlib.pyplot as plt\n\n    fig, (ax1, ax2) = plt.subplots(2, 1)\n\n    ax1.plot(times, mass_flow_in, \"b\", label=\"Mass Flow In\")\n    ax1.plot(times, mass_flow_out, \"r\", label=\"Mass Flow Out\")\n    ax1.set_xlabel(\"Time [s]\")\n    ax1.set_ylabel(\"Mass Flow [t/h]\")\n    ax1.legend(loc=\"upper left\")\n\n    ax2.plot(simulation_times, velocity_max, \"b\", label=\"Max Velocity\")\n    ax2.plot(simulation_times, velocity_min, \"r\", label=\"Min Velocity\")\n    ax2.set_xlabel(\"Time [s]\")\n    ax2.set_ylabel(\"Velocity [m/s]\")\n    ax2.legend(loc=\"upper left\")\n\n    plt.draw()\n\n    rocky.close()"
      ]
    }
  ],
  "metadata": {
    "kernelspec": {
      "display_name": "Python 3",
      "language": "python",
      "name": "python3"
    },
    "language_info": {
      "codemirror_mode": {
        "name": "ipython",
        "version": 3
      },
      "file_extension": ".py",
      "mimetype": "text/x-python",
      "name": "python",
      "nbconvert_exporter": "python",
      "pygments_lexer": "ipython3",
      "version": "3.10.11"
    }
  },
  "nbformat": 4,
  "nbformat_minor": 0
}