{
  "cells": [
    {
      "cell_type": "markdown",
      "metadata": {},
      "source": [
        "\n# Simple particle simulation\nThis example sets up and solves a simple particle simulation workflow.\n"
      ]
    },
    {
      "cell_type": "markdown",
      "metadata": {},
      "source": [
        "## Perform imports and create a project\nPerform the required imports and create an empty project.\n\n"
      ]
    },
    {
      "cell_type": "code",
      "execution_count": null,
      "metadata": {
        "collapsed": false
      },
      "outputs": [],
      "source": [
        "import os.path\nimport tempfile\n\nimport ansys.rocky.core as pyrocky\n\n# Create a temp directory to save the project.\nproject_dir = tempfile.mkdtemp(prefix=\"pyrocky_\")\n\n# Launch Rocky and open a project.\nrocky = pyrocky.launch_rocky()\nproject = rocky.api.CreateProject()"
      ]
    },
    {
      "cell_type": "markdown",
      "metadata": {},
      "source": [
        "## Configure the study\nCreate a particle entity and then inject it through a circular surface.\n\n"
      ]
    },
    {
      "cell_type": "code",
      "execution_count": null,
      "metadata": {
        "collapsed": false
      },
      "outputs": [],
      "source": [
        "study = project.GetStudy()\n\n# The default particle entity has a spherical shape and just one size distribution with\n# the sieve size of 0.1 m.\nparticle = study.CreateParticle()\n\n# The default circular surface is defined in the XZ plane and has a maximum radius\n# of 1.0 m and center in the Cartesian coordinates of (0.0, 0.0, 0.0).\ncircular_surface = study.CreateCircularSurface()\nstudy.CreateParticleInlet(entry_point=circular_surface, particle=particle)\n\n# The domain settings define the domain limits where the particles are enabled to be\n# computed in the simulation.\ndomain = study.GetDomainSettings()\ndomain.DisableUseBoundaryLimits()\ndomain.SetCoordinateLimitsMaxValues((10, 1, 10))"
      ]
    },
    {
      "cell_type": "markdown",
      "metadata": {},
      "source": [
        "## Set up the solver and run the simulation\n\n"
      ]
    },
    {
      "cell_type": "code",
      "execution_count": null,
      "metadata": {
        "collapsed": false
      },
      "outputs": [],
      "source": [
        "solver = study.GetSolver()\nsolver.SetSimulationDuration(2)  # Simulate for 2 sec.\n\nproject.SaveProject(os.path.join(project_dir, \"rocky-testing.rocky\"))\nstudy.StartSimulation()"
      ]
    },
    {
      "cell_type": "markdown",
      "metadata": {},
      "source": [
        "## Postprocess\n\n"
      ]
    },
    {
      "cell_type": "code",
      "execution_count": null,
      "metadata": {
        "collapsed": false
      },
      "outputs": [],
      "source": [
        "# Get the particles count curve that shows the number of particles inside the domain at\n# each time step of the simulation.\ntimes, particles_count = study.GetParticles().GetNumpyCurve(\"Particles Count\")\nfor time, count in zip(times, particles_count):\n    print(f\"Time: {time}s, Count: {count}\")\n\nrocky.close()"
      ]
    }
  ],
  "metadata": {
    "kernelspec": {
      "display_name": "Python 3",
      "language": "python",
      "name": "python3"
    },
    "language_info": {
      "codemirror_mode": {
        "name": "ipython",
        "version": 3
      },
      "file_extension": ".py",
      "mimetype": "text/x-python",
      "name": "python",
      "nbconvert_exporter": "python",
      "pygments_lexer": "ipython3",
      "version": "3.10.11"
    }
  },
  "nbformat": 4,
  "nbformat_minor": 0
}